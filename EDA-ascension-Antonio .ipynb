{
 "cells": [
  {
   "cell_type": "code",
   "execution_count": 39,
   "id": "e257b87d",
   "metadata": {},
   "outputs": [],
   "source": [
    "import datetime\n",
    "import pandas as pd\n",
    "import numpy as np\n",
    "import matplotlib.pyplot as plt\n",
    "import seaborn as sns"
   ]
  },
  {
   "cell_type": "markdown",
   "id": "30c1bd2d",
   "metadata": {},
   "source": [
    "***Lectura de los archivos csv*** "
   ]
  },
  {
   "cell_type": "code",
   "execution_count": 13,
   "id": "12b6f121",
   "metadata": {},
   "outputs": [],
   "source": [
    "Benfs = pd.read_csv('Beneficiarios.csv', sep= '\\t',encoding = 'utf-16-le') # Beneficiarios\n",
    "Comps = pd.read_csv('Complementarios.csv',sep=';') #Complementarios\n",
    "Contrs = pd.read_csv('Contratos.csv', sep=';') #Contratos \n",
    "Serfun = pd.read_csv('SerFun.xls.csv',sep=';') #Servicios funerarios "
   ]
  },
  {
   "cell_type": "code",
   "execution_count": 14,
   "id": "99adb4ee",
   "metadata": {},
   "outputs": [
    {
     "name": "stdout",
     "output_type": "stream",
     "text": [
      "filas de beneficiarios 893279\n",
      "filas de Complementarios 265185\n",
      "filas de Contratos 391300\n",
      "filas de Servicios funerarios 40225\n"
     ]
    }
   ],
   "source": [
    "print(\"filas de beneficiarios\", Benfs.shape[0])\n",
    "print(\"filas de Complementarios\", Comps.shape[0])\n",
    "print(\"filas de Contratos\", Contrs.shape[0])\n",
    "print(\"filas de Servicios funerarios\", Serfun.shape[0])"
   ]
  },
  {
   "cell_type": "code",
   "execution_count": 28,
   "id": "d0928687",
   "metadata": {},
   "outputs": [
    {
     "data": {
      "text/plain": [
       "DocNum                  False\n",
       "Tipo Prestacion         False\n",
       "CreateDate              False\n",
       "DocEntry                 True\n",
       "Ciudad Fallecimiento     True\n",
       "Fecha Fallecimiento     False\n",
       "Edad                    False\n",
       "Causa                    True\n",
       "Parentesco               True\n",
       "dtype: bool"
      ]
     },
     "execution_count": 28,
     "metadata": {},
     "output_type": "execute_result"
    }
   ],
   "source": [
    "Serfun.isna().any()"
   ]
  },
  {
   "cell_type": "markdown",
   "id": "7012eb60",
   "metadata": {},
   "source": [
    "Datos faltantes para los dataset True -> faltan datos, False-> Completo\n",
    "\n",
    "**Benfs** \n",
    "\n",
    "    '#'                    False\n",
    "    DocEntry               False\n",
    "    Sexo                    True\n",
    "    Numero de Documento    False\n",
    "    Parentesco             False\n",
    "    Fecha Nacimiento        True\n",
    "    Fecha Retiro            True\n",
    "    Fecha Siniestro         True\n",
    "    Fecha Crea Contrato    False\n",
    "    \n",
    "**Comps**\n",
    "\n",
    "    Docentry               False\n",
    "    Sexo                    True\n",
    "    Código Seguro          False\n",
    "    Nombre Seguro          False\n",
    "    F. nacimiento           True\n",
    "    F. retiro compl.        True\n",
    "    CreateDate             False\n",
    "    Tipo complementario    False\n",
    "  \n",
    "**Contrs**\n",
    "\n",
    "    Doc entry              False\n",
    "    Nombre UEN             False\n",
    "    Nombre Sub UEN         False\n",
    "    Convenio actual        False\n",
    "    Nombre Convenio        False\n",
    "    Fecha real contrato    False\n",
    "    Numero Contrato         True\n",
    "    Estado del Contrato    False\n",
    "    Tipo de Contrato       False\n",
    "    Codigo plan            False\n",
    "    Nombre Plan            False\n",
    "    Sucursal               False\n",
    "\n",
    "**Serfun**\n",
    "\n",
    "    DocNum                  False\n",
    "    Tipo Prestacion         False\n",
    "    CreateDate              False\n",
    "    DocEntry                 True\n",
    "    Ciudad Fallecimiento     True\n",
    "    Fecha Fallecimiento     False\n",
    "    Edad                    False\n",
    "    Causa                    True\n",
    "    Parentesco               True\n",
    "    "
   ]
  },
  {
   "cell_type": "markdown",
   "id": "83b0b41d",
   "metadata": {},
   "source": [
    "Columnas de los archivos:\n",
    "**nombre**- Tipo que debería ser - tipo en los dataset - Definición \n",
    "\n",
    "1. **Benfs**\n",
    "    * **#** - Unique identifier for the review\n",
    "    * **DocEntry** - INTEGER - int64 - Identificador de los contratos\n",
    "    * **Sexo** - STRING - object-  Genero del beneficiario\n",
    "    * **Numero de  Documento** STRING- object-  Documento del beneficiario\n",
    "    * **Parentesco** STRING- object- Parentesco del beneficiario con el titular del contrato\n",
    "    * **Fecha Nacimiento** - DATE - object- Fecha de nacimiento del beneficiario\n",
    "    * **Fecha Retiro** -DATE- object- Fecha de retiro del beneficiario\n",
    "    * **Fecha Siniestro** DATE- object- Fecha de fallecimiento del beneficiario\n",
    "    * **Fecha Crea Contrato** -DATE- object- Fecha de ingreso del beneficiario\n",
    "    \n",
    "    \n",
    "2. **Comps**\n",
    "    * **Docentry** -INTEGER- Identificador de los contratos\n",
    "    * **Sexo-** STRING -object-  Genero del titular del complementario\n",
    "    * **Código Seguro** -STRING- object- Codigo interno del complementario\n",
    "    * **Nombre Seguro** -STRING- object- Nombre del seguro a comercializar\n",
    "    * **F. nacimiento** -DATE- object- Fecha de nacimiento del titular del complementario\n",
    "    * **F. retiro compl.** -DATE- object- Fecha de retiro del complementario\n",
    "    * **CreateDate** -DATE- object- Fecha de creacion del complementario\n",
    "    * **Tipo complementario** -STRING- object- Clasificacion del complementario\n",
    " \n",
    "    \n",
    "    \n",
    "3. **Contrs**\n",
    "    * **Doc entry** -INTEGER- int64- Identificador de los contratos\n",
    "    * **Nombre UEN** -STRING- object- Unidad estratigica de negocio (Sector en el cual se comecializa)\n",
    "    * **Nombre Sub UEN**-STRING- object- Sub Unidad estratigica de negocio (Sector especifico en el cual se comecializa)\n",
    "    * **Convenio actual** -INTEGER- int64-  Codigo interno de empresa en la que se comercializo\n",
    "    * **Nombre Convenio** -STRING- object- Nombre de empresa en la que se comercializo\n",
    "    * **Fecha real contrato** -DATE- object- Fecha en la que se comercializo el contrato\n",
    "    * **Numero Contrato** -STRING- object- Numero del contrato fisico o digital\n",
    "    * **Estado del Contrato** -STRING- object- Estado del cliente en la base de datos\n",
    "    * **Tipo de Contrato** -STRING- object- Clasificacion del contrato según la antigüedad del cliente\n",
    "    * **Codigo plan** -STRING- object- Codigo interno del plan que se comercializo\n",
    "    * **Nombre Plan** -STRING- object- Nombre del plan que se comercializo\n",
    "    * **Sucursal** -STRING- object- Sede en la que se comercizo el contrato\n",
    "   \n",
    "4. **Serfun**\n",
    "    * **DocNum** -INTEGER- int64 -Identificador del servicio funerario\n",
    "    * **Tipo Prestacion** -STRING- object-  Clasificacion de la prestacion del servicio\n",
    "    * **CreateDate** -DATE- object- fecha de creacion del servicio en el sistema\n",
    "    * **DocEntry** -INTEGER- float64-  Identificador de los contratos\n",
    "    * **Ciudad Fallecimiento** -INTEGER- float64-  Codigo del municipio de fallecimiento\n",
    "    * **Fecha Fallecimiento** -DATE- object- Fecha de fallecimiento del cliente\n",
    "    * **Edad** -INTEGER- int64- Edad del fallecido\n",
    "    * **Causa** -STRING- object- Causal del fellecimiento del cliente\n",
    "    * **Parentesco** -STRING- object- Parentesco del beneficiario fallecido con el titular del contrato\n"
   ]
  },
  {
   "cell_type": "markdown",
   "id": "479fefa9",
   "metadata": {},
   "source": [
    "**Primera exploración para servicios funerarios**\n",
    "\n",
    "- Encontrar comportamientos para edad, ciudad, causa, fecha fallecimiento\n",
    "- Explorar el tipo de prestación \n",
    "- tomar diagramas de barras para todos en general, luego por ciudad. \n",
    "\n"
   ]
  },
  {
   "cell_type": "code",
   "execution_count": 29,
   "id": "621689df",
   "metadata": {},
   "outputs": [
    {
     "data": {
      "text/plain": [
       "DocNum                  False\n",
       "Tipo Prestacion         False\n",
       "CreateDate              False\n",
       "DocEntry                 True\n",
       "Ciudad Fallecimiento     True\n",
       "Fecha Fallecimiento     False\n",
       "Edad                    False\n",
       "Causa                    True\n",
       "Parentesco               True\n",
       "dtype: bool"
      ]
     },
     "execution_count": 29,
     "metadata": {},
     "output_type": "execute_result"
    }
   ],
   "source": [
    "Serfun.isna().any()"
   ]
  },
  {
   "cell_type": "code",
   "execution_count": 30,
   "id": "e90be8ea",
   "metadata": {},
   "outputs": [
    {
     "data": {
      "text/html": [
       "<div>\n",
       "<style scoped>\n",
       "    .dataframe tbody tr th:only-of-type {\n",
       "        vertical-align: middle;\n",
       "    }\n",
       "\n",
       "    .dataframe tbody tr th {\n",
       "        vertical-align: top;\n",
       "    }\n",
       "\n",
       "    .dataframe thead th {\n",
       "        text-align: right;\n",
       "    }\n",
       "</style>\n",
       "<table border=\"1\" class=\"dataframe\">\n",
       "  <thead>\n",
       "    <tr style=\"text-align: right;\">\n",
       "      <th></th>\n",
       "      <th>DocNum</th>\n",
       "      <th>Tipo Prestacion</th>\n",
       "      <th>CreateDate</th>\n",
       "      <th>DocEntry</th>\n",
       "      <th>Ciudad Fallecimiento</th>\n",
       "      <th>Fecha Fallecimiento</th>\n",
       "      <th>Edad</th>\n",
       "      <th>Causa</th>\n",
       "      <th>Parentesco</th>\n",
       "    </tr>\n",
       "  </thead>\n",
       "  <tbody>\n",
       "    <tr>\n",
       "      <th>0</th>\n",
       "      <td>2002468</td>\n",
       "      <td>Previsión Exequial</td>\n",
       "      <td>10/05/2019</td>\n",
       "      <td>7576.0</td>\n",
       "      <td>11001.0</td>\n",
       "      <td>10/05/2019</td>\n",
       "      <td>26</td>\n",
       "      <td>ACCIDENTAL</td>\n",
       "      <td>HIJO (A)</td>\n",
       "    </tr>\n",
       "    <tr>\n",
       "      <th>1</th>\n",
       "      <td>2025926</td>\n",
       "      <td>No Prestado</td>\n",
       "      <td>13/02/2022</td>\n",
       "      <td>463523.0</td>\n",
       "      <td>13430.0</td>\n",
       "      <td>12/02/2022</td>\n",
       "      <td>68</td>\n",
       "      <td>NATURAL</td>\n",
       "      <td>ABUELO (A)</td>\n",
       "    </tr>\n",
       "    <tr>\n",
       "      <th>2</th>\n",
       "      <td>2025551</td>\n",
       "      <td>No Prestado</td>\n",
       "      <td>30/01/2022</td>\n",
       "      <td>23746.0</td>\n",
       "      <td>25307.0</td>\n",
       "      <td>30/01/2022</td>\n",
       "      <td>84</td>\n",
       "      <td>NATURAL</td>\n",
       "      <td>MADRE</td>\n",
       "    </tr>\n",
       "    <tr>\n",
       "      <th>3</th>\n",
       "      <td>2025373</td>\n",
       "      <td>No Prestado</td>\n",
       "      <td>24/01/2022</td>\n",
       "      <td>49526.0</td>\n",
       "      <td>5001.0</td>\n",
       "      <td>24/01/2022</td>\n",
       "      <td>32</td>\n",
       "      <td>NATURAL</td>\n",
       "      <td>ESPOSO (A)</td>\n",
       "    </tr>\n",
       "    <tr>\n",
       "      <th>4</th>\n",
       "      <td>2025790</td>\n",
       "      <td>Particular</td>\n",
       "      <td>7/02/2022</td>\n",
       "      <td>NaN</td>\n",
       "      <td>76001.0</td>\n",
       "      <td>6/02/2022</td>\n",
       "      <td>66</td>\n",
       "      <td>NATURAL</td>\n",
       "      <td>OTRO</td>\n",
       "    </tr>\n",
       "  </tbody>\n",
       "</table>\n",
       "</div>"
      ],
      "text/plain": [
       "    DocNum     Tipo Prestacion  CreateDate  DocEntry  Ciudad Fallecimiento  \\\n",
       "0  2002468  Previsión Exequial  10/05/2019    7576.0               11001.0   \n",
       "1  2025926         No Prestado  13/02/2022  463523.0               13430.0   \n",
       "2  2025551         No Prestado  30/01/2022   23746.0               25307.0   \n",
       "3  2025373         No Prestado  24/01/2022   49526.0                5001.0   \n",
       "4  2025790          Particular   7/02/2022       NaN               76001.0   \n",
       "\n",
       "  Fecha Fallecimiento  Edad       Causa  Parentesco  \n",
       "0          10/05/2019    26  ACCIDENTAL    HIJO (A)  \n",
       "1          12/02/2022    68     NATURAL  ABUELO (A)  \n",
       "2          30/01/2022    84     NATURAL       MADRE  \n",
       "3          24/01/2022    32     NATURAL  ESPOSO (A)  \n",
       "4           6/02/2022    66     NATURAL        OTRO  "
      ]
     },
     "execution_count": 30,
     "metadata": {},
     "output_type": "execute_result"
    }
   ],
   "source": [
    "Serfun.head()\n",
    "#Causa, se puede llenar con, NO ESPECIFICADA \n",
    "#Parentezco, se podría llenar con \"OTRO\" dada la no especificación \n",
    "#DocEntry no tendría relevancia en el momento, será importante cuando se unan tablas \n",
    "#Ciudad de fallecimiento, se podrían borrar al momento de realizar el análisis para las ciudades \n",
    "\n",
    "#Comenzar con las causas que si se puede llenar "
   ]
  },
  {
   "cell_type": "code",
   "execution_count": 35,
   "id": "834cba09",
   "metadata": {},
   "outputs": [
    {
     "data": {
      "text/plain": [
       "array(['ACCIDENTAL', 'NATURAL', 'COVID 19', 'SUICIDIO', 'HOMICIDIO',\n",
       "       'NO ESPECIFICADA', 'SOSPECHA COVID 19', 'EN ESTUDIO'], dtype=object)"
      ]
     },
     "execution_count": 35,
     "metadata": {},
     "output_type": "execute_result"
    }
   ],
   "source": [
    "Serfun.Causa.unique()\n",
    "#array(['ACCIDENTAL','NATURAL','COVID 19','SUICIDIO','HOMICIDIO', nan,\n",
    "# 'SOSPECHA COVID 19', 'EN ESTUDIO']\n",
    "\n",
    "Serfun['Causa'].fillna('NO ESPECIFICADA', inplace=True)\n",
    "Serfun.Causa.unique()\n",
    "\n"
   ]
  },
  {
   "cell_type": "code",
   "execution_count": 38,
   "id": "12b634a4",
   "metadata": {},
   "outputs": [
    {
     "data": {
      "text/html": [
       "<div>\n",
       "<style scoped>\n",
       "    .dataframe tbody tr th:only-of-type {\n",
       "        vertical-align: middle;\n",
       "    }\n",
       "\n",
       "    .dataframe tbody tr th {\n",
       "        vertical-align: top;\n",
       "    }\n",
       "\n",
       "    .dataframe thead th {\n",
       "        text-align: right;\n",
       "    }\n",
       "</style>\n",
       "<table border=\"1\" class=\"dataframe\">\n",
       "  <thead>\n",
       "    <tr style=\"text-align: right;\">\n",
       "      <th></th>\n",
       "      <th>Causa</th>\n",
       "      <th>0</th>\n",
       "    </tr>\n",
       "  </thead>\n",
       "  <tbody>\n",
       "    <tr>\n",
       "      <th>0</th>\n",
       "      <td>ACCIDENTAL</td>\n",
       "      <td>825</td>\n",
       "    </tr>\n",
       "    <tr>\n",
       "      <th>1</th>\n",
       "      <td>COVID 19</td>\n",
       "      <td>2586</td>\n",
       "    </tr>\n",
       "    <tr>\n",
       "      <th>2</th>\n",
       "      <td>EN ESTUDIO</td>\n",
       "      <td>375</td>\n",
       "    </tr>\n",
       "    <tr>\n",
       "      <th>3</th>\n",
       "      <td>HOMICIDIO</td>\n",
       "      <td>813</td>\n",
       "    </tr>\n",
       "    <tr>\n",
       "      <th>4</th>\n",
       "      <td>NATURAL</td>\n",
       "      <td>34508</td>\n",
       "    </tr>\n",
       "    <tr>\n",
       "      <th>5</th>\n",
       "      <td>NO ESPECIFICADA</td>\n",
       "      <td>137</td>\n",
       "    </tr>\n",
       "    <tr>\n",
       "      <th>6</th>\n",
       "      <td>SOSPECHA COVID 19</td>\n",
       "      <td>818</td>\n",
       "    </tr>\n",
       "    <tr>\n",
       "      <th>7</th>\n",
       "      <td>SUICIDIO</td>\n",
       "      <td>163</td>\n",
       "    </tr>\n",
       "  </tbody>\n",
       "</table>\n",
       "</div>"
      ],
      "text/plain": [
       "               Causa      0\n",
       "0         ACCIDENTAL    825\n",
       "1           COVID 19   2586\n",
       "2         EN ESTUDIO    375\n",
       "3          HOMICIDIO    813\n",
       "4            NATURAL  34508\n",
       "5    NO ESPECIFICADA    137\n",
       "6  SOSPECHA COVID 19    818\n",
       "7           SUICIDIO    163"
      ]
     },
     "execution_count": 38,
     "metadata": {},
     "output_type": "execute_result"
    }
   ],
   "source": [
    "#agrupar por causa de la muerte \n",
    "Causas = Serfun.groupby('Causa').size().reset_index()\n",
    "Causas\n"
   ]
  },
  {
   "cell_type": "code",
   "execution_count": 41,
   "id": "5b6a1167",
   "metadata": {},
   "outputs": [
    {
     "data": {
      "text/plain": [
       "Text(0.5, 1.0, 'Causas de fallecimiento vs total fallecimientos')"
      ]
     },
     "execution_count": 41,
     "metadata": {},
     "output_type": "execute_result"
    },
    {
     "data": {
      "image/png": "[encoded data removed]",
      "text/plain": [
       "<Figure size 1440x360 with 1 Axes>"
      ]
     },
     "metadata": {
      "needs_background": "light"
     },
     "output_type": "display_data"
    }
   ],
   "source": [
    "Causas.columns = [\"CAUSAS\",\"Total_fallecimientos\"] #rename column \n",
    "#accident_hour[\"HOUR\"] = accident_hour[\"HOUR\"].astype(str) #the column \"HOUR\" is transformed to string \n",
    "\n",
    "#plot with matplotlib\n",
    "plt.figure(figsize=(20,5))\n",
    "plt.bar(Causas[\"CAUSAS\"],Causas[\"Total_fallecimientos\"])\n",
    "plt.ylabel(\"fallecimientos\")\n",
    "plt.xlabel(\"Causas del fallecimiento\")\n",
    "plt.title(\"Causas de fallecimiento vs total fallecimientos\")"
   ]
  },
  {
   "cell_type": "markdown",
   "id": "09aece00",
   "metadata": {},
   "source": [
    "**Notas** \n",
    "La causa de mayor número de fallecimientos es por causa Natural, la siguiente es por covid 19, seguida por sospecha de covid, accidental y homicidio. la de covid y sospecha de covid deberían disminuir al pasar el tiempo, ya que, la pandemia a ido disminuyendo gracias a la vacunación masiva. estos son datos recopilados a lo largo del tiempo. Será bueno revisar estos tipos de casos en meses  "
   ]
  },
  {
   "cell_type": "code",
   "execution_count": 43,
   "id": "527eff00",
   "metadata": {},
   "outputs": [
    {
     "data": {
      "text/html": [
       "<div>\n",
       "<style scoped>\n",
       "    .dataframe tbody tr th:only-of-type {\n",
       "        vertical-align: middle;\n",
       "    }\n",
       "\n",
       "    .dataframe tbody tr th {\n",
       "        vertical-align: top;\n",
       "    }\n",
       "\n",
       "    .dataframe thead th {\n",
       "        text-align: right;\n",
       "    }\n",
       "</style>\n",
       "<table border=\"1\" class=\"dataframe\">\n",
       "  <thead>\n",
       "    <tr style=\"text-align: right;\">\n",
       "      <th></th>\n",
       "      <th>MES</th>\n",
       "      <th>0</th>\n",
       "    </tr>\n",
       "  </thead>\n",
       "  <tbody>\n",
       "    <tr>\n",
       "      <th>0</th>\n",
       "      <td>2016-01</td>\n",
       "      <td>39</td>\n",
       "    </tr>\n",
       "    <tr>\n",
       "      <th>1</th>\n",
       "      <td>2016-02</td>\n",
       "      <td>30</td>\n",
       "    </tr>\n",
       "    <tr>\n",
       "      <th>2</th>\n",
       "      <td>2016-03</td>\n",
       "      <td>31</td>\n",
       "    </tr>\n",
       "    <tr>\n",
       "      <th>3</th>\n",
       "      <td>2016-04</td>\n",
       "      <td>40</td>\n",
       "    </tr>\n",
       "    <tr>\n",
       "      <th>4</th>\n",
       "      <td>2016-05</td>\n",
       "      <td>28</td>\n",
       "    </tr>\n",
       "    <tr>\n",
       "      <th>...</th>\n",
       "      <td>...</td>\n",
       "      <td>...</td>\n",
       "    </tr>\n",
       "    <tr>\n",
       "      <th>79</th>\n",
       "      <td>2022-08</td>\n",
       "      <td>79</td>\n",
       "    </tr>\n",
       "    <tr>\n",
       "      <th>80</th>\n",
       "      <td>2022-09</td>\n",
       "      <td>63</td>\n",
       "    </tr>\n",
       "    <tr>\n",
       "      <th>81</th>\n",
       "      <td>2022-10</td>\n",
       "      <td>73</td>\n",
       "    </tr>\n",
       "    <tr>\n",
       "      <th>82</th>\n",
       "      <td>2022-11</td>\n",
       "      <td>73</td>\n",
       "    </tr>\n",
       "    <tr>\n",
       "      <th>83</th>\n",
       "      <td>2022-12</td>\n",
       "      <td>70</td>\n",
       "    </tr>\n",
       "  </tbody>\n",
       "</table>\n",
       "<p>84 rows × 2 columns</p>\n",
       "</div>"
      ],
      "text/plain": [
       "        MES   0\n",
       "0   2016-01  39\n",
       "1   2016-02  30\n",
       "2   2016-03  31\n",
       "3   2016-04  40\n",
       "4   2016-05  28\n",
       "..      ...  ..\n",
       "79  2022-08  79\n",
       "80  2022-09  63\n",
       "81  2022-10  73\n",
       "82  2022-11  73\n",
       "83  2022-12  70\n",
       "\n",
       "[84 rows x 2 columns]"
      ]
     },
     "execution_count": 43,
     "metadata": {},
     "output_type": "execute_result"
    }
   ],
   "source": [
    "#Cantidad de muertes por meses \n",
    "\n",
    "df_copy  = Serfun.copy()\n",
    "df_copy[\"Fecha Fallecimiento\"] = pd.to_datetime(df_copy[\"Fecha Fallecimiento\"])\n",
    "df_copy[\"MES\"] = df_copy[\"Fecha Fallecimiento\"].dt.to_period('M')\n",
    "MESES = df_copy.groupby(\"MES\").size().reset_index()\n",
    "MESES"
   ]
  },
  {
   "cell_type": "code",
   "execution_count": 83,
   "id": "5b1a5394",
   "metadata": {},
   "outputs": [
    {
     "data": {
      "text/plain": [
       "Text(0.5, 1.0, 'MES de fallecimiento vs total fallecimientos')"
      ]
     },
     "execution_count": 83,
     "metadata": {},
     "output_type": "execute_result"
    },
    {
     "data": {
      "image/png": "[encoded data removed]",
      "text/plain": [
       "<Figure size 1080x360 with 1 Axes>"
      ]
     },
     "metadata": {
      "needs_background": "light"
     },
     "output_type": "display_data"
    }
   ],
   "source": [
    "#GRAFICA DE FALLECIMIENTOS POR MES \n",
    "MESES.columns = [\"MES\",\"Total_fallecimientos\"] #rename column \n",
    "MESES[\"MES\"] = MESES[\"MES\"].astype(str)\n",
    "n_grupos = 12\n",
    "indice_barra = np.arange(n_grupos)\n",
    "ancho_barra = 0.3\n",
    "#plot with matplotlib\n",
    "plt.figure(figsize=(15,5))\n",
    "plt.bar(indice_barra  ,MESES[\"Total_fallecimientos\"][:12], width = ancho_barra,label=\"2016\")\n",
    "plt.bar(indice_barra + ancho_barra,MESES[\"Total_fallecimientos\"][12:24], width = ancho_barra, label = \"2017\")\n",
    "plt.bar(indice_barra + 2*ancho_barra ,MESES[\"Total_fallecimientos\"][24:36], width = ancho_barra,label=\"2018\")\n",
    "\n",
    "\n",
    "plt.ylabel(\"fallecimientos\")\n",
    "plt.xlabel(\"MESES\")\n",
    "plt.legend(loc='best')\n",
    "plt.xticks(indice_barra + ancho_barra, ('enero', 'febrero', 'marzo', 'abril','mayo','junio'\n",
    "                                          ,'julio','agosto','septiembre','octubre','noviembre',\n",
    "                                         'diciembre'))\n",
    "plt.title(\"MES de fallecimiento vs total fallecimientos\")"
   ]
  },
  {
   "cell_type": "code",
   "execution_count": 84,
   "id": "adbc8fda",
   "metadata": {},
   "outputs": [
    {
     "data": {
      "text/plain": [
       "Text(0.5, 1.0, 'MES de fallecimiento vs total fallecimientos')"
      ]
     },
     "execution_count": 84,
     "metadata": {},
     "output_type": "execute_result"
    },
    {
     "data": {
      "image/png": "[encoded data removed]",
      "text/plain": [
       "<Figure size 1080x360 with 1 Axes>"
      ]
     },
     "metadata": {
      "needs_background": "light"
     },
     "output_type": "display_data"
    }
   ],
   "source": [
    "plt.figure(figsize=(15,5))\n",
    "plt.bar(indice_barra  ,MESES[\"Total_fallecimientos\"][24:36], width = ancho_barra,label=\"2018\")\n",
    "plt.bar(indice_barra + ancho_barra,MESES[\"Total_fallecimientos\"][36:48], width = ancho_barra, label = \"2019\")\n",
    "plt.bar(indice_barra + 2*ancho_barra ,MESES[\"Total_fallecimientos\"][48:60], width = ancho_barra,label=\"2020\")\n",
    "\n",
    "\n",
    "plt.ylabel(\"fallecimientos\")\n",
    "plt.xlabel(\"MESES\")\n",
    "plt.legend(loc='best')\n",
    "plt.xticks(indice_barra + ancho_barra, ('enero', 'febrero', 'marzo', 'abril','mayo','junio'\n",
    "                                          ,'julio','agosto','septiembre','octubre','noviembre',\n",
    "                                         'diciembre'))\n",
    "plt.title(\"MES de fallecimiento vs total fallecimientos\")"
   ]
  },
  {
   "cell_type": "code",
   "execution_count": 86,
   "id": "7caba8a3",
   "metadata": {},
   "outputs": [
    {
     "data": {
      "text/plain": [
       "Text(0.5, 1.0, 'MES de fallecimiento vs total fallecimientos')"
      ]
     },
     "execution_count": 86,
     "metadata": {},
     "output_type": "execute_result"
    },
    {
     "data": {
      "image/png": "[encoded data removed]",
      "text/plain": [
       "<Figure size 1080x360 with 1 Axes>"
      ]
     },
     "metadata": {
      "needs_background": "light"
     },
     "output_type": "display_data"
    }
   ],
   "source": [
    "plt.figure(figsize=(15,5))\n",
    "plt.bar(indice_barra  ,MESES[\"Total_fallecimientos\"][48:60], width = ancho_barra,label=\"2020\")\n",
    "plt.bar(indice_barra + ancho_barra,MESES[\"Total_fallecimientos\"][60:72], width = ancho_barra, label = \"2021\")\n",
    "plt.bar(indice_barra + 2*ancho_barra ,MESES[\"Total_fallecimientos\"][72:84], width = ancho_barra,label=\"2022\")\n",
    "\n",
    "\n",
    "plt.ylabel(\"fallecimientos\")\n",
    "plt.xlabel(\"MESES\")\n",
    "plt.legend(loc='best')\n",
    "plt.xticks(indice_barra + ancho_barra, ('enero', 'febrero', 'marzo', 'abril','mayo','junio'\n",
    "                                          ,'julio','agosto','septiembre','octubre','noviembre',\n",
    "                                         'diciembre'))\n",
    "plt.title(\"MES de fallecimiento vs total fallecimientos\")"
   ]
  }
 ],
 "metadata": {
  "kernelspec": {
   "display_name": "Python 3 (ipykernel)",
   "language": "python",
   "name": "python3"
  },
  "language_info": {
   "codemirror_mode": {
    "name": "ipython",
    "version": 3
   },
   "file_extension": ".py",
   "mimetype": "text/x-python",
   "name": "python",
   "nbconvert_exporter": "python",
   "pygments_lexer": "ipython3",
   "version": "3.9.7"
  }
 },
 "nbformat": 4,
 "nbformat_minor": 5
}
